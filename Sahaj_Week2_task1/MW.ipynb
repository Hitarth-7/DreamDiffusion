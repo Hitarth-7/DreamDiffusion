{
 "cells": [
  {
   "cell_type": "code",
   "execution_count": 149,
   "id": "84d1d19f",
   "metadata": {},
   "outputs": [],
   "source": [
    "import numpy as np\n",
    "import pandas as pd\n",
    "from scipy.interpolate import interp1d"
   ]
  },
  {
   "cell_type": "code",
   "execution_count": 150,
   "id": "93aab05f",
   "metadata": {},
   "outputs": [
    {
     "name": "stdout",
     "output_type": "stream",
     "text": [
      "(67635, 7)\n"
     ]
    },
    {
     "data": {
      "text/plain": [
       "array([ 0,  1,  4,  8,  5,  7,  2,  9,  3,  6, -1])"
      ]
     },
     "execution_count": 150,
     "metadata": {},
     "output_type": "execute_result"
    }
   ],
   "source": [
    "df = pd.read_csv(\"MW.txt\", delimiter='\\t', header=None) # 4th column is the event marker\n",
    "#print(df.head(10))\n",
    "print(df.shape)\n",
    "df[4].unique()"
   ]
  },
  {
   "cell_type": "code",
   "execution_count": 151,
   "id": "a48f548d",
   "metadata": {},
   "outputs": [],
   "source": [
    "df.columns = ['ID', 'Timestamp', 'Subject', 'Channel', 'Stimulus', 'Count', 'Signal']\n",
    "#print(raw_series.head(10))"
   ]
  },
  {
   "cell_type": "code",
   "execution_count": 152,
   "id": "288c4aa8",
   "metadata": {},
   "outputs": [
    {
     "name": "stdout",
     "output_type": "stream",
     "text": [
      "Median signal length: 953\n"
     ]
    }
   ],
   "source": [
    "#print(df['Signal'].head(10))\n",
    "df['Signal'] = df['Signal'].apply(lambda s: list(map(float, s.split(','))))\n",
    "\n",
    "median_length = int(np.median(df['Count']))\n",
    "\n",
    "print(f\"Median signal length: {median_length}\")\n",
    "\n",
    "def resample_signal(signal, target_length):\n",
    "    if len(signal) == target_length:\n",
    "        return signal  # No resampling needed\n",
    "    if len(signal) < 2:\n",
    "        return np.full(target_length, signal[0] if len(signal) == 1 else 0.0)  # Pad constant\n",
    "    original_indices = np.arange(len(signal))\n",
    "    target_indices = np.linspace(0, len(signal) - 1, target_length)\n",
    "    interpolator = interp1d(original_indices, signal, kind='linear')\n",
    "    return interpolator(target_indices)\n",
    "\n",
    "df['Signal'] = (df['Signal'].apply(lambda s: resample_signal(s, median_length))).T\n",
    "\n",
    "#print(df['Signal'].head(10))  \n",
    "#print(df['Signal'].apply(len))  \n"
   ]
  },
  {
   "cell_type": "code",
   "execution_count": 153,
   "id": "089ed377",
   "metadata": {},
   "outputs": [
    {
     "name": "stdout",
     "output_type": "stream",
     "text": [
      "Final shape: (67635, 1, 953)\n",
      "Labels shape: (67635,)\n"
     ]
    }
   ],
   "source": [
    "def interpolate_nans(signal_1d):\n",
    "    if np.isnan(signal_1d).any():\n",
    "        x = np.arange(len(signal_1d))\n",
    "        nan_mask = np.isnan(signal_1d)\n",
    "        signal_1d[nan_mask] = np.interp(x[nan_mask], x[~nan_mask], signal_1d[~nan_mask])\n",
    "    return signal_1d\n",
    "\n",
    "# Process each row as an individual epoch\n",
    "epochs_data = []\n",
    "labels = []\n",
    "\n",
    "for _, row in df.iterrows():\n",
    "    signal = row['Signal']\n",
    "    signal = resample_signal(signal, median_length)\n",
    "    signal = interpolate_nans(signal)\n",
    "\n",
    "    signal = np.array(signal).reshape(1, -1)  # shape: (1, median_length)\n",
    "    epochs_data.append(signal)\n",
    "    labels.append(row['Stimulus']) \n",
    "\n",
    "# Final stacking\n",
    "epochs_data = np.stack(epochs_data, axis=0)  # shape: (n_epochs, 1, median_length)\n",
    "labels = np.array(labels)\n",
    "\n",
    "print(f\"Final shape: {epochs_data.shape}\")\n",
    "print(f\"Labels shape: {labels.shape}\")\n"
   ]
  },
  {
   "cell_type": "code",
   "execution_count": 154,
   "id": "a63de22d",
   "metadata": {},
   "outputs": [
    {
     "name": "stdout",
     "output_type": "stream",
     "text": [
      "Cleaned dataset shape: (67635, 1, 953) (epochs, channels, times)\n",
      "Stimulus labels (example): [0 1 4 1 8]\n"
     ]
    }
   ],
   "source": [
    "from sklearn.preprocessing import MinMaxScaler\n",
    "\n",
    "n_channels = epochs_data.shape[1]\n",
    "for ch in range(n_channels):\n",
    "    scaler = MinMaxScaler()\n",
    "    # Reshape for scaler: (n_epochs, n_times)\n",
    "    reshaped = epochs_data[:, ch, :]\n",
    "    reshaped_scaled = scaler.fit_transform(reshaped)\n",
    "    epochs_data[:, ch, :] = reshaped_scaled\n",
    "\n",
    "\n",
    "print(f\"Cleaned dataset shape: {epochs_data.shape} (epochs, channels, times)\")\n",
    "print(f\"Stimulus labels (example): {labels[:5]}\")\n"
   ]
  }
 ],
 "metadata": {
  "language_info": {
   "name": "python"
  }
 },
 "nbformat": 4,
 "nbformat_minor": 5
}
