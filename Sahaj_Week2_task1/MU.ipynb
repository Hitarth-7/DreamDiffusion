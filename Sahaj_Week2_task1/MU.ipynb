{
 "cells": [
  {
   "cell_type": "code",
   "execution_count": 91,
   "id": "4a5fe485",
   "metadata": {},
   "outputs": [],
   "source": [
    "import mne # used for reading EEG data and signal processing\n",
    "import numpy as np\n",
    "import pandas as pd\n",
    "from collections import defaultdict\n",
    "from scipy.interpolate import interp1d"
   ]
  },
  {
   "cell_type": "code",
   "execution_count": 92,
   "id": "c43b8c61",
   "metadata": {},
   "outputs": [
    {
     "name": "stdout",
     "output_type": "stream",
     "text": [
      "(163932, 7)\n"
     ]
    }
   ],
   "source": [
    "df = pd.read_csv(\"MU.txt\", delimiter='\\t', header=None) # 4th column is the event marker\n",
    "#print(df.head(10))\n",
    "print(df.shape)"
   ]
  },
  {
   "cell_type": "code",
   "execution_count": 93,
   "id": "eae48321",
   "metadata": {},
   "outputs": [
    {
     "name": "stdout",
     "output_type": "stream",
     "text": [
      "1835\n",
      "[ 6  7  1  8  9  3  2  0  5  4 -1]\n",
      "[459 493 442 476 425 510 527 544 474 461 452 408 486 449 446 506 561 578\n",
      " 495 457 472 463 444 497 438 482 470 508 467 468 492 460 477 458 462 473\n",
      " 464 488 483 469 478 479 485 480 455 440 439 475 465 501 536 612 450 490\n",
      " 454 481 456 453 491 443 484 487 448 471 524 445 451 498 509]\n"
     ]
    }
   ],
   "source": [
    "print(len(df.iloc[0, 6]))\n",
    "print(df[4].unique()) \n",
    "print(df[5].unique())"
   ]
  },
  {
   "cell_type": "code",
   "execution_count": 94,
   "id": "36e67fe7",
   "metadata": {},
   "outputs": [
    {
     "name": "stdout",
     "output_type": "stream",
     "text": [
      "EEG data shape after concatenation: (4, 19196423)\n"
     ]
    }
   ],
   "source": [
    "sfreq = 250.0  # Hz\n",
    "n_channels = 4  \n",
    "n_blocks = len(df) // n_channels\n",
    "ch_names = df.iloc[0:n_channels, 3].tolist()\n",
    "ch_types = ['eeg'] * n_channels\n",
    "# Initialize signal storage for each channel\n",
    "channel_data = defaultdict(list)\n",
    "\n",
    "# Go through each block and append signal to corresponding channel\n",
    "for i in range(n_blocks):\n",
    "    block = df.iloc[i * n_channels : (i + 1) * n_channels]\n",
    "    for j in range(n_channels):\n",
    "        ch_name = block.iloc[j, 3]\n",
    "        signal_str = block.iloc[j, 6]\n",
    "        signal = [float(x) for x in signal_str.split(',') if x.strip()]\n",
    "        channel_data[ch_name].append(signal)\n",
    "\n",
    "# Concatenate signals per channel to create full time series\n",
    "eeg_data = np.array([np.concatenate(channel_data[name]) for name in ch_names], dtype=np.float32)\n",
    "\n",
    "print(\"EEG data shape after concatenation:\", eeg_data.shape)\n"
   ]
  },
  {
   "cell_type": "code",
   "execution_count": 95,
   "id": "07f65d3d",
   "metadata": {},
   "outputs": [
    {
     "name": "stdout",
     "output_type": "stream",
     "text": [
      "[[475. 474. 477. ... 309. 317. 314.]\n",
      " [468. 487. 493. ... 533. 535. 536.]\n",
      " [482. 475. 490. ... 415. 417. 418.]\n",
      " [470. 470. 478. ... 312. 314. 315.]]\n"
     ]
    }
   ],
   "source": [
    "print(eeg_data)"
   ]
  },
  {
   "cell_type": "code",
   "execution_count": 96,
   "id": "da978403",
   "metadata": {},
   "outputs": [
    {
     "name": "stdout",
     "output_type": "stream",
     "text": [
      "Creating RawArray with float64 data, n_channels=4, n_times=19196423\n",
      "    Range : 0 ... 19196422 =      0.000 ... 76785.688 secs\n",
      "Ready.\n"
     ]
    }
   ],
   "source": [
    "# Create MNE Raw object\n",
    "info = mne.create_info(ch_names=ch_names, sfreq=sfreq, ch_types=ch_types)\n",
    "raw = mne.io.RawArray(eeg_data, info)"
   ]
  },
  {
   "cell_type": "code",
   "execution_count": 97,
   "id": "5ec2ee24",
   "metadata": {},
   "outputs": [
    {
     "name": "stdout",
     "output_type": "stream",
     "text": [
      "Filtering raw data in 1 contiguous segment\n",
      "Setting up band-pass filter from 1 - 30 Hz\n",
      "\n",
      "FIR filter parameters\n",
      "---------------------\n",
      "Designing a one-pass, zero-phase, non-causal bandpass filter:\n",
      "- Windowed time-domain design (firwin) method\n",
      "- Hamming window with 0.0194 passband ripple and 53 dB stopband attenuation\n",
      "- Lower passband edge: 1.00\n",
      "- Lower transition bandwidth: 1.00 Hz (-6 dB cutoff frequency: 0.50 Hz)\n",
      "- Upper passband edge: 30.00 Hz\n",
      "- Upper transition bandwidth: 7.50 Hz (-6 dB cutoff frequency: 33.75 Hz)\n",
      "- Filter length: 825 samples (3.300 s)\n",
      "\n"
     ]
    },
    {
     "name": "stderr",
     "output_type": "stream",
     "text": [
      "[Parallel(n_jobs=1)]: Done   4 out of   4 | elapsed:    6.7s finished\n"
     ]
    },
    {
     "data": {
      "text/plain": [
       "250.0"
      ]
     },
     "execution_count": 97,
     "metadata": {},
     "output_type": "execute_result"
    }
   ],
   "source": [
    "raw_filt=raw.copy().filter(l_freq=1, h_freq=30)\n",
    "raw_filt.info['sfreq']"
   ]
  },
  {
   "cell_type": "code",
   "execution_count": 98,
   "id": "fef9bef2",
   "metadata": {},
   "outputs": [
    {
     "name": "stdout",
     "output_type": "stream",
     "text": [
      "Shape: (40983, 4, 460)\n",
      "Cleaned dataset shape: (40983, 4, 460) (epochs, channels, times)\n",
      "Stimulus labels (example): [3 9 2 3 6]\n"
     ]
    }
   ],
   "source": [
    "df.columns = ['ID', 'Timestamp', 'Subject', 'Channel', 'Stimulus', 'Count', 'Signal']\n",
    "raw_series = df['Signal']\n",
    "\n",
    "time_series = raw_series.apply(lambda x: np.array([float(i) for i in x.split(',')]))\n",
    "df['Signal'] = time_series\n",
    "\n",
    "median_length = int(np.median(df['Count']))\n",
    "\n",
    "def resample_signal(signal, target_length):\n",
    "    original = np.arange(len(signal))\n",
    "    target = np.linspace(0, len(signal)-1, target_length)\n",
    "    return interp1d(original, signal, kind='linear')(target)\n",
    "\n",
    "df['Signal'] = df['Signal'].apply(lambda s: resample_signal(s, median_length))\n",
    "\n",
    "# Divide into groups of 4 rows\n",
    "epochs_data = []\n",
    "for i in range(0, len(df) - 3, 4):  # step by 4\n",
    "    chunk = df.iloc[i:i+4]\n",
    "    if len(chunk) < 4:\n",
    "        continue  # skip incomplete chunks\n",
    "    signals = np.stack(chunk['Signal'].values)  # shape: (4, median_length)\n",
    "    epochs_data.append(signals)\n",
    "\n",
    "epochs_data = np.array(epochs_data)  # shape: (n_chunks, 4, median_length)\n",
    "print(f\"Shape: {epochs_data.shape}\")\n",
    "\n",
    "\n",
    "def interpolate_nans(epoch):\n",
    "    for i in range(epoch.shape[0]):\n",
    "        if np.isnan(epoch[i]).any():\n",
    "            x = np.arange(epoch.shape[1])\n",
    "            y = epoch[i]\n",
    "            nan_mask = np.isnan(y)\n",
    "            y[nan_mask] = np.interp(x[nan_mask], x[~nan_mask], y[~nan_mask])\n",
    "    return epoch\n",
    "\n",
    "epochs_data = np.array([interpolate_nans(e) for e in epochs_data])\n",
    "\n",
    "from sklearn.preprocessing import MinMaxScaler\n",
    "\n",
    "n_channels = epochs_data.shape[1]\n",
    "for ch in range(n_channels):\n",
    "    scaler = MinMaxScaler()\n",
    "    # Reshape for scaler: (n_epochs, n_times)\n",
    "    reshaped = epochs_data[:, ch, :]\n",
    "    reshaped_scaled = scaler.fit_transform(reshaped)\n",
    "    epochs_data[:, ch, :] = reshaped_scaled\n",
    "\n",
    "\n",
    "print(f\"Cleaned dataset shape: {epochs_data.shape} (epochs, channels, times)\")\n",
    "print(f\"Stimulus labels (example): {labels[:5]}\")\n",
    "\n"
   ]
  }
 ],
 "metadata": {
  "kernelspec": {
   "display_name": "Python 3",
   "language": "python",
   "name": "python3"
  },
  "language_info": {
   "codemirror_mode": {
    "name": "ipython",
    "version": 3
   },
   "file_extension": ".py",
   "mimetype": "text/x-python",
   "name": "python",
   "nbconvert_exporter": "python",
   "pygments_lexer": "ipython3",
   "version": "3.13.3"
  }
 },
 "nbformat": 4,
 "nbformat_minor": 5
}
