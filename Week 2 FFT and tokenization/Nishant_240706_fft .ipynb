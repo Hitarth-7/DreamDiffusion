{
 "cells": [
  {
   "cell_type": "code",
   "execution_count": 4,
   "id": "b109956d-f8db-48eb-8430-3cda6b1127eb",
   "metadata": {},
   "outputs": [
    {
     "name": "stdout",
     "output_type": "stream",
     "text": [
      "Requirement already satisfied: torch in c:\\users\\tarun goyal\\appdata\\local\\programs\\python\\python312\\lib\\site-packages (2.5.1)\n",
      "Requirement already satisfied: torchvision in c:\\users\\tarun goyal\\appdata\\local\\programs\\python\\python312\\lib\\site-packages (0.20.1)\n",
      "Requirement already satisfied: torchaudio in c:\\users\\tarun goyal\\appdata\\local\\programs\\python\\python312\\lib\\site-packages (2.5.1)\n",
      "Requirement already satisfied: filelock in c:\\users\\tarun goyal\\appdata\\local\\programs\\python\\python312\\lib\\site-packages (from torch) (3.16.1)\n",
      "Requirement already satisfied: typing-extensions>=4.8.0 in c:\\users\\tarun goyal\\appdata\\local\\programs\\python\\python312\\lib\\site-packages (from torch) (4.12.2)\n",
      "Requirement already satisfied: networkx in c:\\users\\tarun goyal\\appdata\\local\\programs\\python\\python312\\lib\\site-packages (from torch) (3.4.2)\n",
      "Requirement already satisfied: jinja2 in c:\\users\\tarun goyal\\appdata\\local\\programs\\python\\python312\\lib\\site-packages (from torch) (3.1.5)\n",
      "Requirement already satisfied: fsspec in c:\\users\\tarun goyal\\appdata\\local\\programs\\python\\python312\\lib\\site-packages (from torch) (2024.12.0)\n",
      "Requirement already satisfied: setuptools in c:\\users\\tarun goyal\\appdata\\local\\programs\\python\\python312\\lib\\site-packages (from torch) (75.6.0)\n",
      "Requirement already satisfied: sympy==1.13.1 in c:\\users\\tarun goyal\\appdata\\local\\programs\\python\\python312\\lib\\site-packages (from torch) (1.13.1)\n",
      "Requirement already satisfied: mpmath<1.4,>=1.1.0 in c:\\users\\tarun goyal\\appdata\\local\\programs\\python\\python312\\lib\\site-packages (from sympy==1.13.1->torch) (1.3.0)\n",
      "Requirement already satisfied: numpy in c:\\users\\tarun goyal\\appdata\\local\\programs\\python\\python312\\lib\\site-packages (from torchvision) (2.2.1)\n",
      "Requirement already satisfied: pillow!=8.3.*,>=5.3.0 in c:\\users\\tarun goyal\\appdata\\local\\programs\\python\\python312\\lib\\site-packages (from torchvision) (11.0.0)\n",
      "Requirement already satisfied: MarkupSafe>=2.0 in c:\\users\\tarun goyal\\appdata\\local\\programs\\python\\python312\\lib\\site-packages (from jinja2->torch) (3.0.2)\n",
      "Note: you may need to restart the kernel to use updated packages.\n"
     ]
    }
   ],
   "source": [
    " %pip install torch torchvision torchaudio"
   ]
  },
  {
   "cell_type": "code",
   "execution_count": 5,
   "id": "edf85383-e331-4c8a-9d4f-4d2c5595c8f4",
   "metadata": {},
   "outputs": [
    {
     "name": "stdout",
     "output_type": "stream",
     "text": [
      "Requirement already satisfied: pip in c:\\users\\tarun goyal\\appdata\\local\\programs\\python\\python312\\lib\\site-packages (25.1.1)\n",
      "Note: you may need to restart the kernel to use updated packages.\n"
     ]
    }
   ],
   "source": [
    "%pip install --upgrade pip"
   ]
  },
  {
   "cell_type": "code",
   "execution_count": null,
   "id": "6aeb1ef2-bf64-4dcf-8bd7-b694bf240ce1",
   "metadata": {},
   "outputs": [],
   "source": [
    "import numpy as np"
   ]
  },
  {
   "cell_type": "code",
   "execution_count": 1,
   "id": "16ff20a8-a266-4294-aa17-45516542e1e9",
   "metadata": {},
   "outputs": [
    {
     "name": "stdout",
     "output_type": "stream",
     "text": [
      "<class 'dict'>\n",
      "dict_keys(['dataset', 'labels', 'images', 'means', 'stddevs'])\n"
     ]
    }
   ],
   "source": [
    "import torch\n",
    "\n",
    "# Load the dataset\n",
    "data = torch.load('eeg_signals_raw_with_mean_std.pth')\n",
    "\n",
    "# Inspect keys and shapes\n",
    "print(type(data))\n",
    "print(data.keys())"
   ]
  },
  {
   "cell_type": "code",
   "execution_count": 2,
   "id": "c76f7827-d808-4c47-b390-389d268c0ef8",
   "metadata": {},
   "outputs": [
    {
     "name": "stderr",
     "output_type": "stream",
     "text": [
      "C:\\Users\\tarun goyal\\AppData\\Local\\Temp\\ipykernel_5280\\3757691970.py:5: DeprecationWarning: __array__ implementation doesn't accept a copy keyword, so passing copy=False failed. __array__ must implement 'dtype' and 'copy' keyword arguments.\n",
      "  means = np.array(data['means'])\n",
      "C:\\Users\\tarun goyal\\AppData\\Local\\Temp\\ipykernel_5280\\3757691970.py:6: DeprecationWarning: __array__ implementation doesn't accept a copy keyword, so passing copy=False failed. __array__ must implement 'dtype' and 'copy' keyword arguments.\n",
      "  stds = np.array(data['stddevs'])\n"
     ]
    }
   ],
   "source": [
    "import numpy as np\n",
    "\n",
    "eeg_data = np.array(data['dataset'])  # Now this is a NumPy array\n",
    "labels = np.array(data['labels'])\n",
    "means = np.array(data['means'])\n",
    "stds = np.array(data['stddevs'])"
   ]
  },
  {
   "cell_type": "code",
   "execution_count": null,
   "id": "be3b7936-0f23-48f4-8ec6-84e43aa96b73",
   "metadata": {},
   "outputs": [
    {
     "name": "stdout",
     "output_type": "stream",
     "text": [
      "<class 'dict'>\n",
      "dict_keys(['eeg', 'image', 'label', 'subject'])\n"
     ]
    }
   ],
   "source": [
    "print(type(eeg_data[0]))        \n",
    "print(eeg_data[0].keys())"
   ]
  },
  {
   "cell_type": "code",
   "execution_count": 4,
   "id": "555dc023-47e9-460e-bf71-fdbd25a97492",
   "metadata": {},
   "outputs": [
    {
     "name": "stdout",
     "output_type": "stream",
     "text": [
      "Sample 0 shape: (128, 500)\n",
      "Sample 1 shape: (128, 511)\n",
      "Sample 2 shape: (128, 532)\n",
      "Sample 3 shape: (128, 492)\n",
      "Sample 4 shape: (128, 511)\n"
     ]
    },
    {
     "name": "stderr",
     "output_type": "stream",
     "text": [
      "C:\\Users\\tarun goyal\\AppData\\Local\\Temp\\ipykernel_5280\\3673573857.py:2: DeprecationWarning: __array__ implementation doesn't accept a copy keyword, so passing copy=False failed. __array__ must implement 'dtype' and 'copy' keyword arguments.\n",
      "  print(f\"Sample {i} shape: {np.array(eeg_data[i]['eeg']).shape}\")\n"
     ]
    }
   ],
   "source": [
    "for i in range(5):\n",
    "    print(f\"Sample {i} shape: {np.array(eeg_data[i]['eeg']).shape}\")"
   ]
  },
  {
   "cell_type": "code",
   "execution_count": null,
   "id": "0f2f047e-4215-42ae-8264-aa34410bc415",
   "metadata": {},
   "outputs": [
    {
     "name": "stderr",
     "output_type": "stream",
     "text": [
      "C:\\Users\\tarun goyal\\AppData\\Local\\Temp\\ipykernel_5280\\1928563284.py:5: DeprecationWarning: __array__ implementation doesn't accept a copy keyword, so passing copy=False failed. __array__ must implement 'dtype' and 'copy' keyword arguments.\n",
      "  eeg = np.array(sample['eeg'])  # shape: [128, T]\n"
     ]
    },
    {
     "name": "stdout",
     "output_type": "stream",
     "text": [
      "Final EEG array shape: (11965, 128, 532)\n"
     ]
    }
   ],
   "source": [
    "target_length = 532  # Adjust based on max observed length\n",
    "\n",
    "eeg_signals_fixed = []\n",
    "for sample in eeg_data:\n",
    "    eeg = np.array(sample['eeg'])  # shape: [128, T]\n",
    "\n",
    "    if eeg.shape[1] < target_length:\n",
    "        # Pad with zeros to reach target length\n",
    "        pad_width = target_length - eeg.shape[1]\n",
    "        eeg = np.pad(eeg, ((0, 0), (0, pad_width)), mode='constant')\n",
    "    elif eeg.shape[1] > target_length:\n",
    "        # Truncate to target length (not needed in your case, but safe)\n",
    "        eeg = eeg[:, :target_length]\n",
    "        \n",
    "    eeg_signals_fixed.append(eeg)\n",
    "\n",
    " \n",
    "eeg_data_array = np.stack(eeg_signals_fixed)   \n",
    "print(\"Final EEG array shape:\", eeg_data_array.shape)"
   ]
  },
  {
   "cell_type": "code",
   "execution_count": 6,
   "id": "7f8415ac-7260-40c9-918f-1957c61a4858",
   "metadata": {},
   "outputs": [],
   "source": [
    "from scipy.signal import butter, filtfilt"
   ]
  },
  {
   "cell_type": "code",
   "execution_count": 7,
   "id": "237b8bbc-1e03-47a8-8fa7-c9686415f9fb",
   "metadata": {},
   "outputs": [],
   "source": [
    "def butter_bandpass(lowcut, highcut, fs, order=5):\n",
    "    nyquist = 0.5 * fs\n",
    "    low = lowcut / nyquist\n",
    "    high = highcut / nyquist\n",
    "    b, a = butter(order, [low, high], btype='band')\n",
    "    return b, a\n",
    "\n",
    "def apply_bandpass_filter(data, lowcut=0.5, highcut=45.0, fs=128.0, order=5):\n",
    "    b, a = butter_bandpass(lowcut, highcut, fs, order=order)\n",
    "    return filtfilt(b, a, data)"
   ]
  },
  {
   "cell_type": "code",
   "execution_count": 8,
   "id": "b1a4b22a-e5a9-4e72-8508-2039319b0162",
   "metadata": {},
   "outputs": [
    {
     "name": "stdout",
     "output_type": "stream",
     "text": [
      "Filtered EEG shape: (11965, 128, 532)\n"
     ]
    }
   ],
   "source": [
    "#Preallocate output\n",
    "filtered_eeg_data = np.zeros_like(eeg_data_array)\n",
    "\n",
    " #Loop through trials and channels\n",
    "for i in range(eeg_data_array.shape[0]):         # For each sample\n",
    "    for ch in range(eeg_data_array.shape[1]):    # For each channel\n",
    "        signal = eeg_data_array[i, ch]\n",
    "        filtered = apply_bandpass_filter(signal, fs=128.0)\n",
    "        filtered_eeg_data[i, ch] = filtered\n",
    "\n",
    "print(\"Filtered EEG shape:\", filtered_eeg_data.shape)"
   ]
  },
  {
   "cell_type": "code",
   "execution_count": 15,
   "id": "9f66a542-c926-4a38-88da-6e1244fa6465",
   "metadata": {},
   "outputs": [],
   "source": [
    "np.save('filtered_eeg_data.npy', filtered_eeg_data)\n"
   ]
  },
  {
   "cell_type": "code",
   "execution_count": null,
   "id": "b8956f80-9a7d-4a0c-8726-ac622642aa2d",
   "metadata": {},
   "outputs": [
    {
     "name": "stdout",
     "output_type": "stream",
     "text": [
      "Cleaned EEG shape: (11965, 128, 532)\n"
     ]
    }
   ],
   "source": [
    " \n",
    "cleaned_eeg_data = []\n",
    "for eeg in filtered_eeg_data:\n",
    "    if np.isnan(eeg).any() or np.isinf(eeg).any():\n",
    "        continue  # Skip corrupted samples\n",
    "    if eeg.shape != (128, 532):\n",
    "        continue  # Skip if shape is not expected\n",
    "    cleaned_eeg_data.append(eeg)\n",
    "\n",
    "cleaned_eeg_data = np.stack(cleaned_eeg_data)\n",
    "print(\"Cleaned EEG shape:\", cleaned_eeg_data.shape)   \n"
   ]
  },
  {
   "cell_type": "code",
   "execution_count": 17,
   "id": "efe737ad-adf2-483b-b8a2-4ea4ca0c1818",
   "metadata": {},
   "outputs": [
    {
     "name": "stdout",
     "output_type": "stream",
     "text": [
      "Epoch EEG shape: (47860, 128, 128)\n"
     ]
    }
   ],
   "source": [
    "def epoch_eeg_data(eeg_array, epoch_length=128):\n",
    "    num_samples, num_channels, total_timepoints = eeg_array.shape\n",
    "    epochs_per_sample = total_timepoints // epoch_length\n",
    "\n",
    "    eeg_array = eeg_array[:, :, :epochs_per_sample * epoch_length]  # Trim last partial second\n",
    "    eeg_epochs = eeg_array.reshape(num_samples, num_channels, epochs_per_sample, epoch_length)\n",
    "    eeg_epochs = eeg_epochs.transpose(0, 2, 1, 3)  # [samples, epochs, channels, time]\n",
    "    eeg_epochs = eeg_epochs.reshape(-1, num_channels, epoch_length)  # Flatten to [new_samples, 128, 128]\n",
    "    return eeg_epochs\n",
    "\n",
    "eeg_epochs = epoch_eeg_data(cleaned_eeg_data, epoch_length=128)\n",
    "print(\"Epoch EEG shape:\", eeg_epochs.shape)  # [N*4, 128, 128]\n"
   ]
  },
  {
   "cell_type": "code",
   "execution_count": 18,
   "id": "ed741431-a0df-47b3-b23c-4d1485501cbe",
   "metadata": {},
   "outputs": [
    {
     "name": "stderr",
     "output_type": "stream",
     "text": [
      "C:\\Users\\tarun goyal\\AppData\\Local\\Temp\\ipykernel_16916\\3228751445.py:1: DeprecationWarning: __array__ implementation doesn't accept a copy keyword, so passing copy=False failed. __array__ must implement 'dtype' and 'copy' keyword arguments. To learn more, see the migration guide https://numpy.org/devdocs/numpy_2_0_migration_guide.html#adapting-to-changes-in-the-copy-keyword\n",
      "  means = np.array(data['means'])   # shape: (128,)\n",
      "C:\\Users\\tarun goyal\\AppData\\Local\\Temp\\ipykernel_16916\\3228751445.py:2: DeprecationWarning: __array__ implementation doesn't accept a copy keyword, so passing copy=False failed. __array__ must implement 'dtype' and 'copy' keyword arguments. To learn more, see the migration guide https://numpy.org/devdocs/numpy_2_0_migration_guide.html#adapting-to-changes-in-the-copy-keyword\n",
      "  stds = np.array(data['stddevs'])  # shape: (128,)\n"
     ]
    }
   ],
   "source": [
    "means = np.array(data['means'])   # shape: (128,)\n",
    "stds = np.array(data['stddevs'])  # shape: (128,)\n"
   ]
  },
  {
   "cell_type": "code",
   "execution_count": null,
   "id": "46539584-b074-45d8-9c9a-5ac2e49475ac",
   "metadata": {},
   "outputs": [
    {
     "name": "stdout",
     "output_type": "stream",
     "text": [
      "Normalized EEG shape: (47860, 128, 128)\n"
     ]
    }
   ],
   "source": [
    " \n",
    "means = means.reshape(1, 128, 1)\n",
    "stds = stds.reshape(1, 128, 1)\n",
    "\n",
    "normalized_eeg = (eeg_epochs - means) / stds\n",
    "print(\"Normalized EEG shape:\", normalized_eeg.shape)   \n"
   ]
  },
  {
   "cell_type": "code",
   "execution_count": null,
   "id": "45c3ff96-a25f-4d73-83ee-c457fdeb7cb1",
   "metadata": {},
   "outputs": [],
   "source": [
    "import numpy as np\n",
    "import torch\n",
    "\n",
    "# ------------ Configuration ------------\n",
    "token_size = 4\n",
    "embedding_dim = 1024\n",
    "batch_size = 8   \n",
    "device = torch.device(\"cpu\")   \n",
    "\n",
    " \n",
    "assert isinstance(eeg_epochs, np.ndarray), \"EEG must be a NumPy array\"\n",
    "N, C, T = eeg_epochs.shape\n",
    "assert C == 128 and T == 128, \"EEG must be padded to (N, 128, 128)\"\n",
    "assert T % token_size == 0, \"Time steps must be divisible by token size\"\n",
    "num_tokens = T // token_size\n",
    "\n",
    " \n",
    "means = eeg_epochs.mean(axis=(0, 2), keepdims=True)  \n",
    "stds = eeg_epochs.std(axis=(0, 2), keepdims=True) + 1e-6\n",
    "normalized_eeg = (eeg_epochs - means) / stds\n",
    "\n",
    "# ------------ Define Embedding Layer ------------\n",
    "embedding_layer = torch.nn.Linear(token_size, embedding_dim).to(device)\n",
    "embedding_layer.eval()   \n",
    "\n",
    "# ------------ Process in Batches ------------\n",
    "all_embeddings = []\n",
    "\n",
    "try:\n",
    "    with torch.no_grad():  # disable gradients to save memory\n",
    "        for start in range(0, N, batch_size):\n",
    "            end = min(start + batch_size, N)\n",
    "            batch_np = normalized_eeg[start:end]  # shape (B, 128, 128)\n",
    "\n",
    "            # Convert to torch tensor and move to device\n",
    "            batch_tensor = torch.tensor(batch_np, dtype=torch.float32).to(device)\n",
    "\n",
    "            # Tokenize: reshape to (B, 128, 32, 4)\n",
    "            B = batch_tensor.shape[0]\n",
    "            tokens = batch_tensor.reshape(B, C, num_tokens, token_size)\n",
    "\n",
    "            # Flatten to (B*128*32, 4)\n",
    "            tokens_flat = tokens.reshape(-1, token_size)\n",
    "\n",
    "            # Apply embedding: (B*128*32, 1024)\n",
    "            embedded_flat = embedding_layer(tokens_flat)\n",
    "\n",
    "            # Reshape to (B, 128, 32, 1024)\n",
    "            embedded = embedded_flat.view(B, C, num_tokens, embedding_dim)\n",
    "\n",
    "            all_embeddings.append(embedded.cpu())  # store in CPU to avoid overflow\n",
    "\n",
    "    # Combine all batches into one tensor: (N, 128, 32, 1024)\n",
    "    final_embeddings = torch.cat(all_embeddings, dim=0)\n",
    "    print(\"✅ Final Embeddings Shape:\", final_embeddings.shape)\n",
    "\n",
    "except Exception as e:\n",
    "    print(\"❌ Error during processing:\", e)\n"
   ]
  },
  {
   "cell_type": "code",
   "execution_count": null,
   "id": "3641ca9a-02d9-4038-a8ae-4530376aa924",
   "metadata": {},
   "outputs": [
    {
     "name": "stdout",
     "output_type": "stream",
     "text": [
      "Requirement already satisfied: numpy in c:\\users\\tarun goyal\\appdata\\local\\programs\\python\\python312\\lib\\site-packages (2.2.1)\n",
      "Requirement already satisfied: matplotlib in c:\\users\\tarun goyal\\appdata\\local\\programs\\python\\python312\\lib\\site-packages (3.10.0)\n",
      "Requirement already satisfied: scipy in c:\\users\\tarun goyal\\appdata\\local\\programs\\python\\python312\\lib\\site-packages (1.15.1)\n",
      "Requirement already satisfied: contourpy>=1.0.1 in c:\\users\\tarun goyal\\appdata\\local\\programs\\python\\python312\\lib\\site-packages (from matplotlib) (1.3.1)\n",
      "Requirement already satisfied: cycler>=0.10 in c:\\users\\tarun goyal\\appdata\\local\\programs\\python\\python312\\lib\\site-packages (from matplotlib) (0.12.1)\n",
      "Requirement already satisfied: fonttools>=4.22.0 in c:\\users\\tarun goyal\\appdata\\local\\programs\\python\\python312\\lib\\site-packages (from matplotlib) (4.55.3)\n",
      "Requirement already satisfied: kiwisolver>=1.3.1 in c:\\users\\tarun goyal\\appdata\\local\\programs\\python\\python312\\lib\\site-packages (from matplotlib) (1.4.8)\n",
      "Requirement already satisfied: packaging>=20.0 in c:\\users\\tarun goyal\\appdata\\local\\programs\\python\\python312\\lib\\site-packages (from matplotlib) (24.2)\n",
      "Requirement already satisfied: pillow>=8 in c:\\users\\tarun goyal\\appdata\\local\\programs\\python\\python312\\lib\\site-packages (from matplotlib) (11.0.0)\n",
      "Requirement already satisfied: pyparsing>=2.3.1 in c:\\users\\tarun goyal\\appdata\\local\\programs\\python\\python312\\lib\\site-packages (from matplotlib) (3.2.1)\n",
      "Requirement already satisfied: python-dateutil>=2.7 in c:\\users\\tarun goyal\\appdata\\local\\programs\\python\\python312\\lib\\site-packages (from matplotlib) (2.9.0.post0)\n",
      "Requirement already satisfied: six>=1.5 in c:\\users\\tarun goyal\\appdata\\local\\programs\\python\\python312\\lib\\site-packages (from python-dateutil>=2.7->matplotlib) (1.17.0)\n",
      "Note: you may need to restart the kernel to use updated packages.\n"
     ]
    }
   ],
   "source": [
    "%pip install numpy matplotlib scipy\n"
   ]
  },
  {
   "cell_type": "code",
   "execution_count": null,
   "id": "0837a706-7e02-4cc4-b2d0-7e34d5062031",
   "metadata": {},
   "outputs": [],
   "source": [
    "import numpy as np\n",
    "import matplotlib.pyplot as plt\n",
    "from scipy.fft import fft\n",
    "\n",
    " \n",
    "assert normalized_eeg.ndim == 3, \"normalized_eeg should be (N, 128, 128)\"\n",
    "N, C, T = normalized_eeg.shape\n",
    "\n",
    " \n",
    "fs = 128  # sample rate in Hz\n",
    "freqs = np.fft.fftfreq(T, d=1/fs)[:T//2]\n",
    "\n",
    "# Select some samples and channels for plotting\n",
    "num_samples_to_plot = 3\n",
    "channels_to_plot = [0, 10, 20]   \n",
    "\n",
    "for i in range(num_samples_to_plot):\n",
    "    plt.figure(figsize=(15, 4))\n",
    "    for j, ch in enumerate(channels_to_plot):\n",
    "        signal = normalized_eeg[i, ch, :]\n",
    "        fft_vals = fft(signal)\n",
    "        power_spectrum = np.abs(fft_vals[:T // 2]) ** 2\n",
    "\n",
    "        plt.subplot(1, len(channels_to_plot), j+1)\n",
    "        plt.plot(freqs, power_spectrum)\n",
    "        plt.title(f\"Sample {i}, Channel {ch}\")\n",
    "        plt.xlabel(\"Frequency (Hz)\")\n",
    "        plt.ylabel(\"Power\")\n",
    "        plt.grid(True)\n",
    "    plt.tight_layout()\n",
    "    plt.show()\n"
   ]
  },
  {
   "cell_type": "code",
   "execution_count": null,
   "id": "2098aad5-d28a-4934-afd8-3853d3c70ef7",
   "metadata": {},
   "outputs": [],
   "source": []
  }
 ],
 "metadata": {
  "kernelspec": {
   "display_name": "Python 3",
   "language": "python",
   "name": "python3"
  },
  "language_info": {
   "codemirror_mode": {
    "name": "ipython",
    "version": 3
   },
   "file_extension": ".py",
   "mimetype": "text/x-python",
   "name": "python",
   "nbconvert_exporter": "python",
   "pygments_lexer": "ipython3",
   "version": "3.10.9"
  }
 },
 "nbformat": 4,
 "nbformat_minor": 5
}
