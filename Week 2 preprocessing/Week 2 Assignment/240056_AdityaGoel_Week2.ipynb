{
 "cells": [
  {
   "cell_type": "code",
   "execution_count": null,
   "id": "5699cd54",
   "metadata": {},
   "outputs": [],
   "source": [
    "import pandas as pd\n",
    "import numpy as np\n",
    "from scipy.interpolate import interp1d\n",
    "from sklearn.preprocessing import MinMaxScaler\n",
    "\n",
    "# read text file into pandas DataFrame\n",
    "df = pd.read_csv(\"data/MU.txt\", sep=\"\\t\")\n",
    "df.columns = [\"id\", \"event\", \"device\", \"channel\", \"code\", \"size\", \"data\"]\n",
    "\n",
    "# display DataFrame\n",
    "df.head()"
   ]
  },
  {
   "cell_type": "code",
   "execution_count": null,
   "id": "4e493cab",
   "metadata": {},
   "outputs": [],
   "source": [
    "df['data'] = df['data'].apply(lambda x : np.array(list(x.split(','))))\n"
   ]
  },
  {
   "cell_type": "code",
   "execution_count": null,
   "id": "bd4c86f3",
   "metadata": {},
   "outputs": [],
   "source": [
    "grouped = df.groupby('channel')\n",
    "fp1 = grouped.get_group('FP1')\n"
   ]
  },
  {
   "cell_type": "code",
   "execution_count": null,
   "id": "b09d901f",
   "metadata": {},
   "outputs": [],
   "source": [
    "median_fp1 = fp1['size'].median()\n",
    "print(median_fp1)"
   ]
  },
  {
   "cell_type": "code",
   "execution_count": null,
   "id": "aff55556",
   "metadata": {},
   "outputs": [],
   "source": [
    "nan_in_df = df.isnull().sum()\n",
    "print(nan_in_df)"
   ]
  },
  {
   "cell_type": "code",
   "execution_count": null,
   "id": "26224dda",
   "metadata": {},
   "outputs": [],
   "source": [
    "scaler = MinMaxScaler()\n",
    "fp1['data_scaled'] = fp1['data'].apply(lambda x : scaler.fit_transform(x.reshape(-1,1)))"
   ]
  },
  {
   "cell_type": "code",
   "execution_count": null,
   "id": "471cb96f",
   "metadata": {},
   "outputs": [],
   "source": [
    "fp1['data_scaled'] = fp1['data_scaled'].apply(lambda x : [y for sublist in x for y in sublist] )"
   ]
  },
  {
   "cell_type": "code",
   "execution_count": null,
   "id": "75cfbc5b",
   "metadata": {},
   "outputs": [],
   "source": [
    "def interpolate_row(data, new_size):\n",
    "    old_size = len(data)\n",
    "    if old_size==new_size:\n",
    "        return data\n",
    "    x_old = np.linspace(0,1,old_size)\n",
    "    x_new = np.linspace(0,1,new_size)\n",
    "    interpolate = interp1d(x_old,data, kind='linear')\n",
    "    return interpolate(x_new)\n"
   ]
  },
  {
   "cell_type": "code",
   "execution_count": null,
   "id": "9542c4e4",
   "metadata": {},
   "outputs": [],
   "source": [
    "fp1.head()"
   ]
  },
  {
   "cell_type": "code",
   "execution_count": null,
   "id": "11ff0566",
   "metadata": {},
   "outputs": [],
   "source": [
    "temp = pd.Series()\n",
    "for index, row in fp1.iterrows():\n",
    "    #print(len(row[7]), row[5])\n",
    "    temp[index] = interpolate_row(row[7], int(median_fp1))\n",
    "    \n",
    "fp1['new_data'] = temp\n"
   ]
  },
  {
   "cell_type": "code",
   "execution_count": null,
   "id": "8f9fee64",
   "metadata": {},
   "outputs": [],
   "source": [
    "fp1.head()"
   ]
  },
  {
   "cell_type": "markdown",
   "id": "bb2261ca",
   "metadata": {},
   "source": [
    "Similar steps can be done for any other channel"
   ]
  },
  {
   "cell_type": "code",
   "execution_count": null,
   "id": "01906f26",
   "metadata": {},
   "outputs": [],
   "source": [
    "def preprocess(tempdf):\n",
    "\n",
    "    #Normalization\n",
    "    median = tempdf['size'].median()\n",
    "    tempdf['data_scaled'] = tempdf['data'].apply(lambda x : scaler.fit_transform(x.reshape(-1,1)))\n",
    "    tempdf['data_scaled'] = tempdf['data_scaled'].apply(lambda x : [y for sublist in x for y in sublist] )\n",
    "    \n",
    "    temp = pd.Series()\n",
    "    for index, row in tempdf.iterrows():\n",
    "        \n",
    "        temp[index] = interpolate_row(row[7], int(median))\n",
    "        \n",
    "    tempdf['new_data'] = temp\n",
    "    return tempdf\n",
    "    \n"
   ]
  },
  {
   "cell_type": "code",
   "execution_count": null,
   "id": "2f493755",
   "metadata": {},
   "outputs": [],
   "source": [
    "    #Grouping\n",
    "fp2 = grouped.get_group('FP2')\n",
    "median = fp2['size'].median()\n",
    "fp2 = preprocess(fp2)"
   ]
  },
  {
   "cell_type": "code",
   "execution_count": null,
   "id": "9941ccab",
   "metadata": {},
   "outputs": [],
   "source": [
    "import matplotlib.pyplot as plt"
   ]
  },
  {
   "cell_type": "code",
   "execution_count": null,
   "id": "cbb68ebe",
   "metadata": {},
   "outputs": [],
   "source": [
    "plt.plot(fp1['new_data'][0])"
   ]
  },
  {
   "cell_type": "code",
   "execution_count": null,
   "id": "04210d0c",
   "metadata": {},
   "outputs": [],
   "source": [
    "plt.plot(fp2['new_data'][1])"
   ]
  },
  {
   "cell_type": "code",
   "execution_count": null,
   "id": "0de3b2cd",
   "metadata": {},
   "outputs": [],
   "source": [
    "df2 = pd.read_csv(\"data/MW.txt\", sep=\"\\t\")\n",
    "df2.columns = [\"id\", \"event\", \"device\", \"channel\", \"code\", \"size\", \"data\"]\n",
    "df2.head()\n"
   ]
  },
  {
   "cell_type": "code",
   "execution_count": null,
   "id": "0e35f875",
   "metadata": {},
   "outputs": [],
   "source": [
    "df2['data'] = df2['data'].apply(lambda x : np.array(list(x.split(','))))"
   ]
  },
  {
   "cell_type": "code",
   "execution_count": null,
   "id": "1cce0c40",
   "metadata": {},
   "outputs": [],
   "source": [
    "# for index, x in df2.iterrows():\n",
    "#     x[6] = np.array(x[6].split(','))\n",
    "\n",
    "median = df2['size'].median()\n",
    "\n",
    "df2['data_scaled'] = df2['data'].apply(lambda x : scaler.fit_transform(x.reshape(-1,1)))\n",
    "df2['data_scaled'] = df2['data_scaled'].apply(lambda x : [y for sublist in x for y in sublist] )\n",
    "\n",
    "temp = pd.Series()\n",
    "for index, row in df2.iterrows():\n",
    "    \n",
    "    temp[index] = interpolate_row(row[7], int(median))\n",
    "    \n",
    "df2['new_data'] = temp\n",
    "    "
   ]
  },
  {
   "cell_type": "code",
   "execution_count": null,
   "id": "47c74c3e",
   "metadata": {},
   "outputs": [],
   "source": [
    "plt.plot(df2['new_data'][0])"
   ]
  }
 ],
 "metadata": {
  "kernelspec": {
   "display_name": "Python 3",
   "language": "python",
   "name": "python3"
  },
  "language_info": {
   "codemirror_mode": {
    "name": "ipython",
    "version": 3
   },
   "file_extension": ".py",
   "mimetype": "text/x-python",
   "name": "python",
   "nbconvert_exporter": "python",
   "pygments_lexer": "ipython3",
   "version": "3.9.6"
  }
 },
 "nbformat": 4,
 "nbformat_minor": 5
}
