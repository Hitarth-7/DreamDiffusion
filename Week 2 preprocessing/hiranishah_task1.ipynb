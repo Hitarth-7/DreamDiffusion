{
  "nbformat": 4,
  "nbformat_minor": 0,
  "metadata": {
    "colab": {
      "provenance": []
    },
    "kernelspec": {
      "name": "python3",
      "display_name": "Python 3"
    },
    "language_info": {
      "name": "python"
    }
  },
  "cells": [
    {
      "cell_type": "code",
      "source": [
        "\n",
        "!pip install numpy scipy scikit-learn\n",
        "\n",
        "\n",
        "from google.colab import drive\n",
        "drive.mount('/content/drive')\n",
        "\n",
        "import zipfile\n",
        "import os\n",
        "\n",
        "zip_path = '/content/drive/MyDrive/data.zip'\n",
        "extract_dir = '/content/data'\n",
        "with zipfile.ZipFile(zip_path, 'r') as zip_ref:\n",
        "    zip_ref.extractall(extract_dir)\n",
        "\n",
        "\n",
        "muse_zip_path = os.path.join(extract_dir, 'data', 'MuseData.zip')\n",
        "muse_extract_path = os.path.join(extract_dir, 'MuseData')\n",
        "with zipfile.ZipFile(muse_zip_path, 'r') as zip_ref:\n",
        "    zip_ref.extractall(muse_extract_path)"
      ],
      "metadata": {
        "colab": {
          "base_uri": "https://localhost:8080/"
        },
        "id": "egjBKVAYyshI",
        "outputId": "261031f6-3bea-40ab-cdec-466f8557cad5"
      },
      "execution_count": 4,
      "outputs": [
        {
          "output_type": "stream",
          "name": "stdout",
          "text": [
            "Requirement already satisfied: numpy in /usr/local/lib/python3.11/dist-packages (2.0.2)\n",
            "Requirement already satisfied: scipy in /usr/local/lib/python3.11/dist-packages (1.15.3)\n",
            "Requirement already satisfied: scikit-learn in /usr/local/lib/python3.11/dist-packages (1.6.1)\n",
            "Requirement already satisfied: joblib>=1.2.0 in /usr/local/lib/python3.11/dist-packages (from scikit-learn) (1.5.0)\n",
            "Requirement already satisfied: threadpoolctl>=3.1.0 in /usr/local/lib/python3.11/dist-packages (from scikit-learn) (3.6.0)\n",
            "Mounted at /content/drive\n"
          ]
        }
      ]
    },
    {
      "cell_type": "code",
      "source": [
        "import numpy as np\n",
        "from scipy.signal import butter, filtfilt, resample\n",
        "from scipy.interpolate import interp1d\n",
        "from sklearn.preprocessing import MinMaxScaler\n",
        "import os\n",
        "\n",
        "\n",
        "fs = 256\n",
        "lowcut = 5.0\n",
        "highcut = 95.0\n",
        "mu_path = os.path.join(muse_extract_path, 'MU.txt')\n",
        "\n",
        "\n",
        "def bandpass_filter(signal, lowcut, highcut, fs, order=5):\n",
        "    nyq = 0.5 * fs\n",
        "    low = lowcut / nyq\n",
        "    high = highcut / nyq\n",
        "    b, a = butter(order, [low, high], btype='band')\n",
        "    return filtfilt(b, a, signal)\n",
        "\n",
        "\n",
        "def interpolate_nans(signal):\n",
        "    nans = np.isnan(signal)\n",
        "    if np.any(nans):\n",
        "        x = np.arange(len(signal))\n",
        "        f = interp1d(x[~nans], signal[~nans], kind='linear', fill_value='extrapolate')\n",
        "        signal[nans] = f(x[nans])\n",
        "    return signal\n",
        "\n",
        "\n",
        "signals = []\n",
        "\n",
        "with open(mu_path, 'r') as f:\n",
        "    for line in f:\n",
        "        parts = line.strip().split('\\t')\n",
        "        raw_str = parts[6]\n",
        "        signal = np.array([int(val) for val in raw_str.split(',')], dtype=np.float32)\n",
        "\n",
        "\n",
        "        signal = bandpass_filter(signal, lowcut, highcut, fs)\n",
        "\n",
        "\n",
        "        signals.append(signal)\n",
        "\n",
        "\n",
        "lengths = [len(sig) for sig in signals]\n",
        "median_len = int(np.median(lengths))\n",
        "\n",
        "resampled_signals = [resample(sig, median_len) for sig in signals]\n",
        "\n",
        "\n",
        "interpolated_signals = [interpolate_nans(sig) for sig in resampled_signals]\n",
        "\n",
        "\n",
        "scaler = MinMaxScaler()\n",
        "normalized_signals = []\n",
        "for sig in interpolated_signals:\n",
        "    sig = sig.reshape(-1, 1)\n",
        "    norm = scaler.fit_transform(sig).flatten()\n",
        "    normalized_signals.append(norm)\n",
        "\n",
        "final_data = np.array(normalized_signals)\n",
        "print(\"Final shape:\", final_data.shape)\n",
        "np.save('/content/muse_preprocessed_individual_signals.npy', final_data)\n",
        "print(\"Saved \")\n"
      ],
      "metadata": {
        "id": "L1Ih7GqrytvB"
      },
      "execution_count": null,
      "outputs": []
    }
  ]
}